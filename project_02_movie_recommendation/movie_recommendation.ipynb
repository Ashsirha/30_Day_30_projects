{
 "cells": [
  {
   "cell_type": "markdown",
   "metadata": {},
   "source": [
    "# Project 2: Movie Recommendation System\n",
    "\n",
    "This notebook demonstrates how to build a simple item-based collaborative filtering recommendation system. We will use the MovieLens 100k dataset to recommend movies similar to a given movie."
   ]
  },
  {
   "cell_type": "code",
   "execution_count": null,
   "metadata": {},
   "outputs": [],
   "source": [
    "import pandas as pd\n",
    "import numpy as np\n",
    "import matplotlib.pyplot as plt\n",
    "import seaborn as sns\n",
    "\n",
    "sns.set_style('whitegrid')"
   ]
  },
  {
   "cell_type": "markdown",
   "metadata": {},
   "source": [
    "## 1. Load and Prepare the Data\n",
    "\n",
    "First, we load the `u.data` file, which contains user ratings, and the `u.item` file, which contains movie information. Make sure these files are in a `data/` subdirectory."
   ]
  },
  {
   "cell_type": "code",
   "execution_count": null,
   "metadata": {},
   "outputs": [],
   "source": [
    "try:\n",
    "    # Define column names for the ratings data\n",
    "    r_cols = ['user_id', 'item_id', 'rating', 'timestamp']\n",
    "    ratings = pd.read_csv('data/u.data', sep='\\t', names=r_cols, encoding='latin-1')\n",
    "\n",
    "    # Define column names for the movie titles data\n",
    "    m_cols = ['item_id', 'title'] + [f'col{i}' for i in range(22)]\n",
    "    movies = pd.read_csv('data/u.item', sep='|', names=m_cols, usecols=['item_id', 'title'], encoding='latin-1')\n",
    "\n",
    "    # Merge the two dataframes\n",
    "    df = pd.merge(ratings, movies, on='item_id')\n",
    "    print(\"Data loaded successfully.\")\n",
    "    print(df.head())\n",
    "\n",
    "except FileNotFoundError:\n",
    "    print(\"Data files not found. Please download the dataset and place them in the 'data/' directory as specified in the README.\")"
   ]
  },
  {
   "cell_type": "markdown",
   "metadata": {},
   "source": [
    "## 2. Exploratory Data Analysis (EDA)\n",
    "\n",
    "Let's explore the data to see which movies have the most ratings and what the distribution of ratings looks like."
   ]
  },
  {
   "cell_type": "code",
   "execution_count": null,
   "metadata": {},
   "outputs": [],
   "source": [
    "# Calculate mean rating and number of ratings for each movie\n",
    "movie_stats = df.groupby('title').agg(mean_rating=('rating', 'mean'),\n",
    "                                     num_of_ratings=('rating', 'count')).reset_index()\n",
    "\n",
    "print(\"Top 5 movies by number of ratings:\")\n",
    "print(movie_stats.sort_values('num_of_ratings', ascending=False).head())"
   ]
  },
  {
   "cell_type": "code",
   "execution_count": null,
   "metadata": {},
   "outputs": [],
   "source": [
    "# Plot histograms of rating distributions\n",
    "plt.figure(figsize=(12, 5))\n",
    "\n",
    "plt.subplot(1, 2, 1)\n",
    "sns.histplot(movie_stats['num_of_ratings'], bins=70)\n",
    "plt.title('Distribution of Number of Ratings per Movie')\n",
    "\n",
    "plt.subplot(1, 2, 2)\n",
    "sns.histplot(movie_stats['mean_rating'], bins=70)\n",
    "plt.title('Distribution of Mean Ratings per Movie')\n",
    "\n",
    "plt.tight_layout()\n",
    "plt.show()"
   ]
  },
  {
   "cell_type": "markdown",
   "metadata": {},
   "source": [
    "## 3. Building the Item-Based Collaborative Filter\n",
    "\n",
    "Now we'll create a user-item matrix, which shows the rating given by each user to each movie. We will then use this matrix to compute the correlation between movies based on user ratings."
   ]
  },
  {
   "cell_type": "code",
   "execution_count": null,
   "metadata": {},
   "outputs": [],
   "source": [
    "# Create the user-item matrix\n",
    "user_movie_matrix = df.pivot_table(index='user_id', columns='title', values='rating')\n",
    "\n",
    "print(\"User-Item Matrix preview:\")\n",
    "print(user_movie_matrix.head())"
   ]
  },
  {
   "cell_type": "code",
   "execution_count": null,
   "metadata": {},
   "outputs": [],
   "source": [
    "# Choose a movie to get recommendations for\n",
    "movie_to_recommend = 'Star Wars (1977)'\n",
    "\n",
    "# Get the ratings for the chosen movie\n",
    "target_movie_ratings = user_movie_matrix[movie_to_recommend]\n",
    "\n",
    "# Compute the correlation with other movies\n",
    "similar_movies = user_movie_matrix.corrwith(target_movie_ratings)\n",
    "\n",
    "# Create a dataframe of the results\n",
    "corr_df = pd.DataFrame(similar_movies, columns=['Correlation'])\n",
    "corr_df.dropna(inplace=True)\n",
    "\n",
    "print(f\"Correlations with '{movie_to_recommend}':\")\n",
    "print(corr_df.head())"
   ]
  },
  {
   "cell_type": "markdown",
   "metadata": {},
   "source": [
    "## 4. Generating Recommendations\n",
    "\n",
    "To improve the quality of our recommendations, we'll filter out movies that have a low number of ratings. A movie might have a high correlation just because one or two people who rated both gave them similar scores. We'll set a threshold for the number of ratings to ensure statistical significance."
   ]
  },
  {
   "cell_type": "code",
   "execution_count": null,
   "metadata": {},
   "outputs": [],
   "source": [
    "# Join the correlation data with the movie stats (which includes num_of_ratings)\n",
    "corr_df = corr_df.join(movie_stats.set_index('title'))\n",
    "\n",
    "# Filter out movies with fewer than 100 ratings\n",
    "recommendations = corr_df[corr_df['num_of_ratings'] > 100].sort_values('Correlation', ascending=False)\n",
    "\n",
    "print(f\"Top recommendations for '{movie_to_recommend}':\")\n",
    "# Exclude the movie itself from the recommendations\n",
    "print(recommendations.iloc[1:].head())"
   ]
  },
  {
   "cell_type": "markdown",
   "metadata": {},
   "source": [
    "## 5. Conclusion\n",
    "\n",
    "This notebook demonstrated a basic item-based collaborative filtering approach. The recommendations seem reasonable, with other popular sci-fi movies appearing at the top of the list for 'Star Wars'.\n",
    "\n",
    "### Potential Next Steps\n",
    "\n",
    "- **Experiment with Thresholds:** Try different values for the minimum number of ratings to see how it affects recommendation quality.\n",
    "- **Try Different Similarity Metrics:** Use other metrics like cosine similarity instead of Pearson correlation.\n",
    "- **Implement Model-Based Approaches:** Explore more advanced techniques like Matrix Factorization (e.g., Singular Value Decomposition - SVD) which can often yield better and more personalized results."
   ]
  }
 ],
 "metadata": {
  "kernelspec": {
   "display_name": "Python 3",
   "language": "python",
   "name": "python3"
  },
  "language_info": {
   "name": "python",
   "version": "3.9.12"
  }
 },
 "nbformat": 4,
 "nbformat_minor": 4
}
