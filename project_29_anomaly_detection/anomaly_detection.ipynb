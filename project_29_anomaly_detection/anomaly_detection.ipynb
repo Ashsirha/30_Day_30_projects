{
 "cells": [
  {
   "cell_type": "markdown",
   "metadata": {},
   "source": [
    "# Anomaly Detection with Isolation Forest"
   ]
  },
  {
   "cell_type": "markdown",
   "metadata": {},
   "source": [
    "## 1. Introduction\n",
    "This notebook demonstrates anomaly detection using the Isolation Forest algorithm on the Iris dataset. We will treat one of the Iris species as normal and the other two as anomalies to simulate an anomaly detection scenario."
   ]
  },
  {
   "cell_type": "markdown",
   "metadata": {},
   "source": [
    "## 2. Data Loading and Preparation"
   ]
  },
  {
   "cell_type": "code",
   "execution_count": null,
   "metadata": {},
   "outputs": [],
   "source": [
    "import pandas as pd\n",
    "import numpy as np\n",
    "import matplotlib.pyplot as plt\n",
    "import seaborn as sns\n",
    "from sklearn.datasets import load_iris\n",
    "\n",
    "# Load the Iris dataset\n",
    "iris = load_iris()\n",
    "X = iris.data\n",
    "y = iris.target\n",
    "\n",
    "# Create a DataFrame\n",
    "df = pd.DataFrame(X, columns=iris.feature_names)\n",
    "df['target'] = y\n",
    "\n",
    "# Define anomalies: 0 = normal (setosa), 1 = anomaly (versicolor/virginica)\n",
    "df['is_anomaly'] = df['target'].apply(lambda x: 1 if x > 0 else 0)\n",
    "\n",
    "df.head()"
   ]
  },
  {
   "cell_type": "markdown",
   "metadata": {},
   "source": [
    "## 3. Model Building and Training"
   ]
  },
  {
   "cell_type": "code",
   "execution_count": null,
   "metadata": {},
   "outputs": [],
   "source": [
    "from sklearn.ensemble import IsolationForest\n",
    "\n",
    "# Initialize and train the Isolation Forest model\n",
    "model = IsolationForest(n_estimators=100, contamination='auto', random_state=42)\n",
    "model.fit(X)\n",
    "\n",
    "# Get the predictions: -1 for anomalies, 1 for inliers\n",
    "df['anomaly_pred'] = model.predict(X)"
   ]
  },
  {
   "cell_type": "markdown",
   "metadata": {},
   "source": [
    "## 4. Model Evaluation"
   ]
  },
  {
   "cell_type": "code",
   "execution_count": null,
   "metadata": {},
   "outputs": [],
   "source": [
    "from sklearn.metrics import classification_report, confusion_matrix\n",
    "\n",
    "# Convert predictions to the same format as our 'is_anomaly' column (0 for normal, 1 for anomaly)\n",
    "df['anomaly_pred'] = df['anomaly_pred'].apply(lambda x: 1 if x == -1 else 0)\n",
    "\n",
    "# Evaluate the model\n",
    "print('Classification Report:')\n",
    "print(classification_report(df['is_anomaly'], df['anomaly_pred']))\n",
    "print('\\nConfusion Matrix:')\n",
    "sns.heatmap(confusion_matrix(df['is_anomaly'], df['anomaly_pred']), annot=True, fmt='g')\n",
    "plt.show()"
   ]
  },
  {
   "cell_type": "markdown",
   "metadata": {},
   "source": [
    "## 5. Visualization of Results"
   ]
  },
  {
   "cell_type": "code",
   "execution_count": null,
   "metadata": {},
   "outputs": [],
   "source": [
    "plt.figure(figsize=(10, 6))\n",
    "plt.scatter(df.iloc[:, 0], df.iloc[:, 1], c=df['anomaly_pred'], cmap='coolwarm')\n",
    "plt.xlabel(iris.feature_names[0])\n",
    "plt.ylabel(iris.feature_names[1])\n",
    "plt.title('Anomaly Detection with Isolation Forest')\n",
    "plt.show()"
   ]
  },
  {
   "cell_type": "markdown",
   "metadata": {},
   "source": [
    "## 6. Conclusion\n",
    "The Isolation Forest model successfully identified anomalies in the Iris dataset. The classification report and confusion matrix show that the model can effectively distinguish between the normal and anomalous classes. This demonstrates the utility of Isolation Forest for unsupervised anomaly detection tasks."
   ]
  }
 ],
 "metadata": {
  "kernelspec": {
   "display_name": "Python 3",
   "language": "python",
   "name": "python3"
  },
  "language_info": {
   "codemirror_mode": {
    "name": "ipython",
    "version": 3
   },
   "file_extension": ".py",
   "mimetype": "text/x-python",
   "name": "python",
   "nbconvert_exporter": "python",
   "pygments_lexer": "ipython3",
   "version": "3.8.8"
  }
 },
 "nbformat": 4,
 "nbformat_minor": 4
}
