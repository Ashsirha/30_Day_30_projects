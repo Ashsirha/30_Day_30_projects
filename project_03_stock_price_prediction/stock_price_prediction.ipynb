{
 "cells": [
  {
   "cell_type": "markdown",
   "metadata": {},
   "source": [
    "# Project 3: Stock Price Prediction\n",
    "\n",
    "This notebook explores time series forecasting to predict stock prices. We will use two different models:\n",
    "1. **ARIMA (Autoregressive Integrated Moving Average):** A classical statistical model for time series data.\n",
    "2. **LSTM (Long Short-Term Memory):** A type of recurrent neural network (RNN) well-suited for sequence prediction problems.\n",
    "\n",
    "We will fetch historical stock data for Apple Inc. (`AAPL`) and compare the performance of these two models."
   ]
  },
  {
   "cell_type": "markdown",
   "metadata": {},
   "source": [
    "## 1. Setup and Data Loading"
   ]
  },
  {
   "cell_type": "code",
   "execution_count": null,
   "metadata": {},
   "outputs": [],
   "source": [
    "import pandas as pd\n",
    "import numpy as np\n",
    "import yfinance as yf\n",
    "import matplotlib.pyplot as plt\n",
    "import seaborn as sns\n",
    "from statsmodels.tsa.arima.model import ARIMA\n",
    "from sklearn.preprocessing import MinMaxScaler\n",
    "from sklearn.metrics import mean_squared_error\n",
    "import tensorflow as tf\n",
    "from tensorflow.keras.models import Sequential\n",
    "from tensorflow.keras.layers import Dense, LSTM, Dropout\n",
    "\n",
    "sns.set_style('whitegrid')"
   ]
  },
  {
   "cell_type": "code",
   "execution_count": null,
   "metadata": {},
   "outputs": [],
   "source": [
    "# Download historical data for a stock (e.g., Apple Inc.)\n",
    "ticker = 'AAPL'\n",
    "data = yf.download(ticker, start='2018-01-01', end='2023-12-31')\n",
    "\n",
    "if data.empty:\n",
    "    print(f\"No data found for ticker {ticker}. Please check the ticker symbol or the date range.\")\n",
    "else:\n",
    "    print(f\"Data for {ticker} downloaded successfully:\")\n",
    "    print(data.head())"
   ]
  },
  {
   "cell_type": "markdown",
   "metadata": {},
   "source": [
    "## 2. Exploratory Data Analysis (EDA)"
   ]
  },
  {
   "cell_type": "code",
   "execution_count": null,
   "metadata": {},
   "outputs": [],
   "source": [
    "# Plot the closing price history\n",
    "plt.figure(figsize=(14, 7))\n",
    "plt.plot(data['Close'], label='Close Price')\n",
    "plt.title(f'{ticker} Stock Price History')\n",
    "plt.xlabel('Date')\n",
    "plt.ylabel('Price (USD)')\n",
    "plt.legend()\n",
    "plt.show()"
   ]
  },
  {
   "cell_type": "code",
   "execution_count": null,
   "metadata": {},
   "outputs": [],
   "source": [
    "# Plot closing price with moving averages\n",
    "data['MA50'] = data['Close'].rolling(50).mean()\n",
    "data['MA200'] = data['Close'].rolling(200).mean()\n",
    "\n",
    "plt.figure(figsize=(14, 7))\n",
    "plt.plot(data['Close'], label='Close Price')\n",
    "plt.plot(data['MA50'], label='50-Day Moving Average')\n",
    "plt.plot(data['MA200'], label='200-Day Moving Average')\n",
    "plt.title(f'{ticker} Price and Moving Averages')\n",
    "plt.xlabel('Date')\n",
    "plt.ylabel('Price (USD)')\n",
    "plt.legend()\n",
    "plt.show()"
   ]
  },
  {
   "cell_type": "markdown",
   "metadata": {},
   "source": [
    "## 3. Data Preprocessing"
   ]
  },
  {
   "cell_type": "code",
   "execution_count": null,
   "metadata": {},
   "outputs": [],
   "source": [
    "# Create a new dataframe with only the 'Close' column\n",
    "close_data = data.filter(['Close'])\n",
    "# Convert the dataframe to a numpy array\n",
    "dataset = close_data.values\n",
    "# Get the number of rows to train the model on (80% of the data)\n",
    "training_data_len = int(np.ceil(len(dataset) * .8))"
   ]
  },
  {
   "cell_type": "markdown",
   "metadata": {},
   "source": [
    "## 4. Modeling with ARIMA"
   ]
  },
  {
   "cell_type": "code",
   "execution_count": null,
   "metadata": {},
   "outputs": [],
   "source": [
    "# Split data for ARIMA\n",
    "train_arima = dataset[:training_data_len]\n",
    "test_arima = dataset[training_data_len:]\n",
    "\n",
    "# Fit the ARIMA model\n",
    "# We use a simple (5,1,0) model as a starting point\n",
    "history = [x for x in train_arima]\n",
    "predictions_arima = []\n",
    "\n",
    "for t in range(len(test_arima)):\n",
    "    model = ARIMA(history, order=(5,1,0))\n",
    "    model_fit = model.fit()\n",
    "    output = model_fit.forecast()\n",
    "    yhat = output[0]\n",
    "    predictions_arima.append(yhat)\n",
    "    obs = test_arima[t]\n",
    "    history.append(obs)\n",
    "\n",
    "# Evaluate the model\n",
    "rmse_arima = np.sqrt(mean_squared_error(test_arima, predictions_arima))\n",
    "print(f'ARIMA Model RMSE: {rmse_arima:.2f}')"
   ]
  },
  {
   "cell_type": "markdown",
   "metadata": {},
   "source": [
    "## 5. Modeling with LSTM"
   ]
  },
  {
   "cell_type": "markdown",
   "metadata": {},
   "source": [
    "### 5.1. Preprocessing for LSTM"
   ]
  },
  {
   "cell_type": "code",
   "execution_count": null,
   "metadata": {},
   "outputs": [],
   "source": [
    "# Scale the data\n",
    "scaler = MinMaxScaler(feature_range=(0,1))\n",
    "scaled_data = scaler.fit_transform(dataset)\n",
    "\n",
    "# Create the training data set\n",
    "train_data = scaled_data[0:int(training_data_len), :]\n",
    "# Split the data into x_train and y_train data sets\n",
    "x_train = []\n",
    "y_train = []\n",
    "\n",
    "for i in range(60, len(train_data)):\n",
    "    x_train.append(train_data[i-60:i, 0])\n",
    "    y_train.append(train_data[i, 0])\n",
    "\n",
    "# Convert the x_train and y_train to numpy arrays \n",
    "x_train, y_train = np.array(x_train), np.array(y_train)\n",
    "\n",
    "# Reshape the data for the LSTM model\n",
    "x_train = np.reshape(x_train, (x_train.shape[0], x_train.shape[1], 1))"
   ]
  },
  {
   "cell_type": "markdown",
   "metadata": {},
   "source": [
    "### 5.2. Building and Training the LSTM Model"
   ]
  },
  {
   "cell_type": "code",
   "execution_count": null,
   "metadata": {},
   "outputs": [],
   "source": [
    "# Build the LSTM model\n",
    "model_lstm = Sequential()\n",
    "model_lstm.add(LSTM(50, return_sequences=True, input_shape=(x_train.shape[1], 1)))\n",
    "model_lstm.add(LSTM(50, return_sequences=False))\n",
    "model_lstm.add(Dense(25))\n",
    "model_lstm.add(Dense(1))\n",
    "\n",
    "# Compile the model\n",
    "model_lstm.compile(optimizer='adam', loss='mean_squared_error')\n",
    "\n",
    "# Train the model\n",
    "model_lstm.fit(x_train, y_train, batch_size=1, epochs=1)"
   ]
  },
  {
   "cell_type": "markdown",
   "metadata": {},
   "source": [
    "### 5.3. Making Predictions with LSTM"
   ]
  },
  {
   "cell_type": "code",
   "execution_count": null,
   "metadata": {},
   "outputs": [],
   "source": [
    "# Create the testing data set\n",
    "test_data = scaled_data[training_data_len - 60:, :]\n",
    "# Create the data sets x_test and y_test\n",
    "x_test = []\n",
    "y_test = dataset[training_data_len:, :]\n",
    "for i in range(60, len(test_data)):\n",
    "    x_test.append(test_data[i-60:i, 0])\n",
    "\n",
    "# Convert the data to a numpy array\n",
    "x_test = np.array(x_test)\n",
    "\n",
    "# Reshape the data\n",
    "x_test = np.reshape(x_test, (x_test.shape[0], x_test.shape[1], 1))\n",
    "\n",
    "# Get the models predicted price values \n",
    "predictions_lstm = model_lstm.predict(x_test)\n",
    "predictions_lstm = scaler.inverse_transform(predictions_lstm)\n",
    "\n",
    "# Get the root mean squared error (RMSE)\n",
    "rmse_lstm = np.sqrt(np.mean(((predictions_lstm - y_test) ** 2)))\n",
    "print(f'LSTM Model RMSE: {rmse_lstm:.2f}')"
   ]
  },
  {
   "cell_type": "markdown",
   "metadata": {},
   "source": [
    "## 6. Visualization and Conclusion"
   ]
  },
  {
   "cell_type": "code",
   "execution_count": null,
   "metadata": {},
   "outputs": [],
   "source": [
    "# Plot the data\n",
    "train = close_data[:training_data_len]\n",
    "valid = close_data[training_data_len:]\n",
    "valid['ARIMA'] = predictions_arima\n",
    "valid['LSTM'] = predictions_lstm\n",
    "\n",
    "# Visualize the data\n",
    "plt.figure(figsize=(16,8))\n",
    "plt.title('Model Comparison')\n",
    "plt.xlabel('Date')\n",
    "plt.ylabel('Close Price USD ($)')\n",
    "plt.plot(train['Close'])\n",
    "plt.plot(valid[['Close', 'ARIMA', 'LSTM']])\n",
    "plt.legend(['Train', 'Actual', 'ARIMA', 'LSTM'], loc='lower right')\n",
    "plt.show()"
   ]
  },
  {
   "cell_type": "markdown",
   "metadata": {},
   "source": [
    "### Conclusion\n",
    "\n",
    "In this notebook, we built and compared an ARIMA and an LSTM model for stock price prediction.\n",
    "- **ARIMA RMSE:** The ARIMA model provides a solid baseline but struggles to capture complex, non-linear patterns.\n",
    "- **LSTM RMSE:** The LSTM model typically performs better due to its ability to learn long-term dependencies in the data.\n",
    "\n",
    "**Important Note:** Stock market prediction is extremely difficult. These models are for educational purposes and should not be used for actual trading without extensive further development, validation, and risk management."
   ]
  }
 ],
 "metadata": {
  "kernelspec": {
   "display_name": "Python 3",
   "language": "python",
   "name": "python3"
  },
  "language_info": {
   "name": "python",
   "version": "3.9.12"
  }
 },
 "nbformat": 4,
 "nbformat_minor": 4
}
