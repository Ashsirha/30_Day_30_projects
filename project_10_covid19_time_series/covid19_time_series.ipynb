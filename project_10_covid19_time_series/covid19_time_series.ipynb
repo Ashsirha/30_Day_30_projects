{
 "cells": [
  {
   "cell_type": "markdown",
   "metadata": {},
   "source": [
    "# Project 10: COVID-19 Cases Time Series Analysis\n",
    "\n",
    "This notebook performs a time-series analysis of the COVID-19 pandemic using data from Johns Hopkins University. The goal is to load, process, and visualize the data to understand the progression of the pandemic over time, identify major waves, and compare trends across different countries."
   ]
  },
  {
   "cell_type": "markdown",
   "metadata": {},
   "source": [
    "## 1. Setup and Library Imports"
   ]
  },
  {
   "cell_type": "code",
   "execution_count": null,
   "metadata": {},
   "outputs": [],
   "source": [
    "import pandas as pd\n",
    "import numpy as np\n",
    "import matplotlib.pyplot as plt\n",
    "import seaborn as sns\n",
    "\n",
    "sns.set_style('whitegrid')"
   ]
  },
  {
   "cell_type": "markdown",
   "metadata": {},
   "source": [
    "## 2. Data Loading and Preprocessing"
   ]
  },
  {
   "cell_type": "code",
   "execution_count": null,
   "metadata": {},
   "outputs": [],
   "source": [
    "# Load the dataset\n",
    "try:\n",
    "    df = pd.read_csv('data/time_series_covid19_confirmed_global.csv')\n",
    "    print(\"Data loaded successfully.\")\n",
    "except FileNotFoundError:\n",
    "    print(\"Data file not found. Please download the JHU dataset and place it in the 'data/' directory.\")\n",
    "\n",
    "df.head()"
   ]
  },
  {
   "cell_type": "code",
   "execution_count": null,
   "metadata": {},
   "outputs": [],
   "source": [
    "# Drop unnecessary columns\n",
    "df_cleaned = df.drop(columns=['Province/State', 'Lat', 'Long'])\n",
    "\n",
    "# Melt the dataframe to convert it from wide to long format\n",
    "df_long = df_cleaned.melt(id_vars=['Country/Region'], var_name='Date', value_name='Cumulative Cases')\n",
    "\n",
    "# Convert 'Date' column to datetime objects\n",
    "df_long['Date'] = pd.to_datetime(df_long['Date'])\n",
    "\n",
    "df_long.head()"
   ]
  },
  {
   "cell_type": "markdown",
   "metadata": {},
   "source": [
    "### 2.1 Aggregating Global Data"
   ]
  },
  {
   "cell_type": "code",
   "execution_count": null,
   "metadata": {},
   "outputs": [],
   "source": [
    "# Group by date to get total global cases\n",
    "global_cases = df_long.groupby('Date')['Cumulative Cases'].sum().reset_index()\n",
    "\n",
    "# Calculate daily new cases\n",
    "global_cases['New Cases'] = global_cases['Cumulative Cases'].diff().fillna(0)\n",
    "\n",
    "# Calculate 7-day rolling average of new cases\n",
    "global_cases['7-Day Rolling Avg'] = global_cases['New Cases'].rolling(window=7).mean()\n",
    "\n",
    "global_cases.tail()"
   ]
  },
  {
   "cell_type": "markdown",
   "metadata": {},
   "source": [
    "## 3. Global Trend Visualization"
   ]
  },
  {
   "cell_type": "code",
   "execution_count": null,
   "metadata": {},
   "outputs": [],
   "source": [
    "# Plot cumulative global cases\n",
    "plt.figure(figsize=(12, 6))\n",
    "plt.plot(global_cases['Date'], global_cases['Cumulative Cases'], label='Cumulative Cases')\n",
    "plt.title('Global Cumulative COVID-19 Cases Over Time')\n",
    "plt.xlabel('Date')\n",
    "plt.ylabel('Number of Cases (in billions)')\n",
    "plt.legend()\n",
    "plt.show()"
   ]
  },
  {
   "cell_type": "code",
   "execution_count": null,
   "metadata": {},
   "outputs": [],
   "source": [
    "# Plot daily new cases and the 7-day rolling average\n",
    "plt.figure(figsize=(12, 6))\n",
    "plt.bar(global_cases['Date'], global_cases['New Cases'], label='Daily New Cases', color='lightgray')\n",
    "plt.plot(global_cases['Date'], global_cases['7-Day Rolling Avg'], label='7-Day Rolling Average', color='red')\n",
    "plt.title('Global Daily New COVID-19 Cases and 7-Day Rolling Average')\n",
    "plt.xlabel('Date')\n",
    "plt.ylabel('Number of New Cases')\n",
    "plt.legend()\n",
    "plt.show()"
   ]
  },
  {
   "cell_type": "markdown",
   "metadata": {},
   "source": [
    "The 7-day rolling average clearly smooths out the daily noise and allows us to see the major waves of the pandemic."
   ]
  },
  {
   "cell_type": "markdown",
   "metadata": {},
   "source": [
    "## 4. Country-Specific Analysis"
   ]
  },
  {
   "cell_type": "code",
   "execution_count": null,
   "metadata": {},
   "outputs": [],
   "source": [
    "# Group by country and date\n",
    "country_cases = df_long.groupby(['Country/Region', 'Date'])['Cumulative Cases'].sum().reset_index()\n",
    "\n",
    "# Calculate new cases per country\n",
    "country_cases['New Cases'] = country_cases.groupby('Country/Region')['Cumulative Cases'].diff().fillna(0)\n",
    "\n",
    "# Calculate 7-day rolling average per country\n",
    "country_cases['7-Day Rolling Avg'] = country_cases.groupby('Country/Region')['New Cases'].transform(lambda x: x.rolling(7).mean())\n",
    "\n",
    "countries_to_compare = ['US', 'India', 'Brazil', 'United Kingdom']\n",
    "comparison_df = country_cases[country_cases['Country/Region'].isin(countries_to_compare)]"
   ]
  },
  {
   "cell_type": "code",
   "execution_count": null,
   "metadata": {},
   "outputs": [],
   "source": [
    "# Plot the comparison\n",
    "plt.figure(figsize=(14, 8))\n",
    "sns.lineplot(data=comparison_df, x='Date', y='7-Day Rolling Avg', hue='Country/Region')\n",
    "plt.title('COVID-19 New Cases (7-Day Rolling Average) by Country')\n",
    "plt.xlabel('Date')\n",
    "plt.ylabel('7-Day Avg. New Cases')\n",
    "plt.legend(title='Country')\n",
    "plt.show()"
   ]
  },
  {
   "cell_type": "markdown",
   "metadata": {},
   "source": [
    "## 5. Conclusion\n",
    "\n",
    "This analysis provided a clear visual overview of the COVID-19 pandemic's progression. Key takeaways include:\n",
    "\n",
    "1.  **Global Waves:** The 7-day rolling average effectively visualized the major global waves of infection, showing distinct peaks over the years.\n",
    "2.  **Country-Specific Trajectories:** The pandemic unfolded differently across countries, with nations experiencing major waves at different times and scales, as seen in the comparison plot.\n",
    "3.  **Data Preprocessing:** The initial data was in a 'wide' format, and a significant part of the work involved preprocessing it into a 'long' time-series format suitable for analysis and visualization with tools like Pandas and Matplotlib."
   ]
  }
 ],
 "metadata": {
  "kernelspec": {
   "display_name": "Python 3",
   "language": "python",
   "name": "python3"
  },
  "language_info": {
   "name": "python",
   "version": "3.9.12"
  }
 },
 "nbformat": 4,
 "nbformat_minor": 4
}
