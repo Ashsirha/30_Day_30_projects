{
 "cells": [
  {
   "cell_type": "markdown",
   "metadata": {},
   "source": [
    "# Project 9: World Happiness Report EDA\n",
    "\n",
    "This notebook performs an Exploratory Data Analysis (EDA) on the World Happiness Report 2021 data. The goal is to explore the dataset to understand the factors that are most correlated with national happiness."
   ]
  },
  {
   "cell_type": "markdown",
   "metadata": {},
   "source": [
    "## 1. Setup and Library Imports"
   ]
  },
  {
   "cell_type": "code",
   "execution_count": null,
   "metadata": {},
   "outputs": [],
   "source": [
    "import pandas as pd\n",
    "import numpy as np\n",
    "import matplotlib.pyplot as plt\n",
    "import seaborn as sns\n",
    "\n",
    "sns.set_style('darkgrid')"
   ]
  },
  {
   "cell_type": "markdown",
   "metadata": {},
   "source": [
    "## 2. Data Loading and Initial Inspection"
   ]
  },
  {
   "cell_type": "code",
   "execution_count": null,
   "metadata": {},
   "outputs": [],
   "source": [
    "# Load the dataset\n",
    "try:\n",
    "    df = pd.read_csv('data/world-happiness-report-2021.csv')\n",
    "    print(\"Data loaded successfully.\")\n",
    "except FileNotFoundError:\n",
    "    print(\"Data file not found. Make sure 'world-happiness-report-2021.csv' is in the 'data/' directory.\")\n",
    "\n",
    "df.head()"
   ]
  },
  {
   "cell_type": "code",
   "execution_count": null,
   "metadata": {},
   "outputs": [],
   "source": [
    "df.info()"
   ]
  },
  {
   "cell_type": "markdown",
   "metadata": {},
   "source": [
    "## 3. Exploring the Data"
   ]
  },
  {
   "cell_type": "markdown",
   "metadata": {},
   "source": [
    "### 3.1 Top 10 Happiest Countries"
   ]
  },
  {
   "cell_type": "code",
   "execution_count": null,
   "metadata": {},
   "outputs": [],
   "source": [
    "top_10 = df.nlargest(10, 'Ladder score')\n",
    "\n",
    "plt.figure(figsize=(10, 6))\n",
    "sns.barplot(x='Ladder score', y='Country name', data=top_10, palette='viridis')\n",
    "plt.title('Top 10 Happiest Countries in 2021')\n",
    "plt.xlabel('Happiness Score (Ladder score)')\n",
    "plt.ylabel('Country')\n",
    "plt.show()"
   ]
  },
  {
   "cell_type": "markdown",
   "metadata": {},
   "source": [
    "### 3.2 Distribution of Key Factors"
   ]
  },
  {
   "cell_type": "code",
   "execution_count": null,
   "metadata": {},
   "outputs": [],
   "source": [
    "factors = ['Logged GDP per capita', 'Social support', 'Healthy life expectancy', \n",
    "           'Freedom to make life choices', 'Generosity', 'Perceptions of corruption']\n",
    "\n",
    "df[factors].hist(figsize=(15, 10), bins=20, color='skyblue')\n",
    "plt.suptitle('Distribution of Key Happiness Factors', size=16)\n",
    "plt.tight_layout(rect=[0, 0, 1, 0.96])\n",
    "plt.show()"
   ]
  },
  {
   "cell_type": "markdown",
   "metadata": {},
   "source": [
    "### 3.3 Correlation Analysis"
   ]
  },
  {
   "cell_type": "code",
   "execution_count": null,
   "metadata": {},
   "outputs": [],
   "source": [
    "# Scatter plots for each factor against the Ladder score\n",
    "plt.figure(figsize=(18, 12))\n",
    "for i, factor in enumerate(factors):\n",
    "    plt.subplot(2, 3, i + 1)\n",
    "    sns.scatterplot(x=df[factor], y=df['Ladder score'])\n",
    "    plt.title(f'{factor} vs. Happiness Score')\n",
    "plt.tight_layout()\n",
    "plt.show()"
   ]
  },
  {
   "cell_type": "code",
   "execution_count": null,
   "metadata": {},
   "outputs": [],
   "source": [
    "# Correlation Heatmap\n",
    "plt.figure(figsize=(10, 8))\n",
    "corr_matrix = df[factors + ['Ladder score']].corr()\n",
    "sns.heatmap(corr_matrix, annot=True, cmap='coolwarm', fmt='.2f')\n",
    "plt.title('Correlation Matrix of Happiness Factors')\n",
    "plt.show()"
   ]
  },
  {
   "cell_type": "markdown",
   "metadata": {},
   "source": [
    "**Observations from the heatmap:**\n",
    "*   `Logged GDP per capita`, `Social support`, and `Healthy life expectancy` have very strong positive correlations with the `Ladder score`.\n",
    "*   `Freedom to make life choices` has a moderate positive correlation.\n",
    "*   `Generosity` has a very weak positive correlation.\n",
    "*   `Perceptions of corruption` has a moderate negative correlation (lower corruption is associated with higher happiness)."
   ]
  },
  {
   "cell_type": "markdown",
   "metadata": {},
   "source": [
    "### 3.4 Regional Analysis"
   ]
  },
  {
   "cell_type": "code",
   "execution_count": null,
   "metadata": {},
   "outputs": [],
   "source": [
    "plt.figure(figsize=(12, 8))\n",
    "regional_happiness = df.groupby('Regional indicator')['Ladder score'].mean().sort_values()\n",
    "regional_happiness.plot(kind='barh', color='salmon')\n",
    "plt.title('Average Happiness Score by Region')\n",
    "plt.xlabel('Average Ladder Score')\n",
    "plt.ylabel('Region')\n",
    "plt.show()"
   ]
  },
  {
   "cell_type": "markdown",
   "metadata": {},
   "source": [
    "## 4. Conclusion\n",
    "\n",
    "This exploratory data analysis has provided several key insights into the World Happiness Report 2021 data:\n",
    "\n",
    "1.  **Top Performers:** The happiest countries are predominantly located in Western Europe, with Nordic countries leading the way.\n",
    "2.  **Key Drivers:** Economic prosperity (GDP per capita), strong social support systems, and high life expectancy are the factors most strongly associated with national happiness.\n",
    "3.  **Other Factors:** Freedom to make life choices and low perceptions of corruption also play significant roles, while generosity appears to have a much weaker link.\n",
    "4.  **Regional Differences:** There are clear disparities in happiness levels across different world regions, with Western Europe and North America/ANZ showing the highest average scores."
   ]
  }
 ],
 "metadata": {
  "kernelspec": {
   "display_name": "Python 3",
   "language": "python",
   "name": "python3"
  },
  "language_info": {
   "name": "python",
   "version": "3.9.12"
  }
 },
 "nbformat": 4,
 "nbformat_minor": 4
}
