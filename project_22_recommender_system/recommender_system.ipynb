{
 "cells": [
  {
   "cell_type": "markdown",
   "metadata": {},
   "source": [
    "# Movie Recommender System"
   ]
  },
  {
   "cell_type": "markdown",
   "metadata": {},
   "source": [
    "## 1. Introduction\n",
    "This notebook builds a movie recommender system using the MovieLens 1M dataset. We will use a collaborative filtering approach based on matrix factorization to predict user ratings for movies and generate recommendations."
   ]
  },
  {
   "cell_type": "markdown",
   "metadata": {},
   "source": [
    "## 2. Data Loading and Preparation"
   ]
  },
  {
   "cell_type": "code",
   "execution_count": null,
   "metadata": {},
   "outputs": [],
   "source": [
    "import tensorflow as tf\n",
    "import tensorflow_datasets as tfds\n",
    "import numpy as np\n",
    "\n",
    "# Load the MovieLens 1M dataset\n",
    "ratings_data, info = tfds.load('movielens/1m-ratings', with_info=True)\n",
    "ratings = tfds.as_dataframe(ratings_data['train'])\n",
    "\n",
    "# Extract user IDs, movie titles, and ratings\n",
    "user_ids = ratings['user_id'].unique()\n",
    "movie_titles = ratings['movie_title'].unique()\n",
    "\n",
    "# Create user and movie mappers\n",
    "user_to_index = {user: i for i, user in enumerate(user_ids)}\n",
    "movie_to_index = {movie: i for i, movie in enumerate(movie_titles)}\n",
    "\n",
    "ratings['user_index'] = ratings['user_id'].map(user_to_index)\n",
    "ratings['movie_index'] = ratings['movie_title'].map(movie_to_index)\n",
    "\n",
    "ratings.head()"
   ]
  },
  {
   "cell_type": "markdown",
   "metadata": {},
   "source": [
    "## 3. Model Building"
   ]
  },
  {
   "cell_type": "code",
   "execution_count": null,
   "metadata": {},
   "outputs": [],
   "source": [
    "from tensorflow.keras.layers import Input, Embedding, Flatten, Dot, Dense\n",
    "from tensorflow.keras.models import Model\n",
    "\n",
    "embedding_dim = 50\n",
    "num_users = len(user_ids)\n",
    "num_movies = len(movie_titles)\n",
    "\n",
    "# User input\n",
    "user_input = Input(shape=(1,))\n",
    "user_embedding = Embedding(num_users, embedding_dim, input_length=1)(user_input)\n",
    "user_vec = Flatten()(user_embedding)\n",
    "\n",
    "# Movie input\n",
    "movie_input = Input(shape=(1,))\n",
    "movie_embedding = Embedding(num_movies, embedding_dim, input_length=1)(movie_input)\n",
    "movie_vec = Flatten()(movie_embedding)\n",
    "\n",
    "# Dot product of user and movie embeddings\n",
    "dot_product = Dot(axes=1)([user_vec, movie_vec])\n",
    "\n",
    "# Model\n",
    "model = Model([user_input, movie_input], dot_product)\n",
    "model.summary()"
   ]
  },
  {
   "cell_type": "markdown",
   "metadata": {},
   "source": [
    "## 4. Model Compilation and Training"
   ]
  },
  {
   "cell_type": "code",
   "execution_count": null,
   "metadata": {},
   "outputs": [],
   "source": [
    "model.compile(optimizer='adam', loss='mean_squared_error')\n",
    "\n",
    "# Prepare data for training\n",
    "X = ratings[['user_index', 'movie_index']].values\n",
    "y = ratings['user_rating'].values\n",
    "\n",
    "history = model.fit([X[:, 0], X[:, 1]], y, epochs=10, batch_size=64, validation_split=0.1)"
   ]
  },
  {
   "cell_type": "markdown",
   "metadata": {},
   "source": [
    "## 5. Model Evaluation and Recommendation Generation"
   ]
  },
  {
   "cell_type": "code",
   "execution_count": null,
   "metadata": {},
   "outputs": [],
   "source": [
    "# Function to recommend movies for a user\n",
    "def recommend_movies(user_id, num_recommendations=10):\n",
    "    user_idx = user_to_index[user_id]\n",
    "    movie_indices = np.array(list(movie_to_index.values()))\n",
    "    user_idx_array = np.array([user_idx for _ in range(len(movie_indices))])\n",
    "    \n",
    "    predictions = model.predict([user_idx_array, movie_indices])\n",
    "    \n",
    "    # Get top N recommendations\n",
    "    top_indices = predictions.flatten().argsort()[-num_recommendations:][::-1]\n",
    "    \n",
    "    # Get movie titles from indices\n",
    "    recommended_movies = [list(movie_to_index.keys())[i] for i in top_indices]\n",
    "    \n",
    "    return recommended_movies\n",
    "\n",
    "# Example: Get recommendations for user 1\n",
    "recommendations = recommend_movies(b'1')\n",
    "print(f'Recommendations for user 1: {recommendations}')"
   ]
  },
  {
   "cell_type": "markdown",
   "metadata": {},
   "source": [
    "## 6. Conclusion\n",
    "This notebook demonstrates how to build a movie recommender system using collaborative filtering with matrix factorization. The model learns embeddings for users and movies to predict ratings and generate personalized recommendations. This approach can be extended with more complex models and features to further improve recommendation quality."
   ]
  }
 ],
 "metadata": {
  "kernelspec": {
   "display_name": "Python 3",
   "language": "python",
   "name": "python3"
  },
  "language_info": {
   "codemirror_mode": {
    "name": "ipython",
    "version": 3
   },
   "file_extension": ".py",
   "mimetype": "text/x-python",
   "name": "python",
   "nbconvert_exporter": "python",
   "pygments_lexer": "ipython3",
   "version": "3.8.8"
  }
 },
 "nbformat": 4,
 "nbformat_minor": 4
}
