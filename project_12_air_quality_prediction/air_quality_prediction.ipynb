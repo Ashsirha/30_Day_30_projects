{
 "cells": [
  {
   "cell_type": "markdown",
   "metadata": {},
   "source": [
    "# Air Quality Prediction"
   ]
  },
  {
   "cell_type": "markdown",
   "metadata": {},
   "source": [
    "## 1. Introduction\n",
    "This notebook analyzes the Air Quality dataset from the UCI Machine Learning Repository. The goal is to predict the concentration of Benzene (C6H6(GT)) based on other sensor readings and environmental factors. The project involves data loading, cleaning, exploratory data analysis, and building a regression model."
   ]
  },
  {
   "cell_type": "markdown",
   "metadata": {},
   "source": [
    "## 2. Data Loading and Initial Exploration"
   ]
  },
  {
   "cell_type": "code",
   "execution_count": null,
   "metadata": {},
   "outputs": [],
   "source": [
    "import pandas as pd\n",
    "import numpy as np\n",
    "import matplotlib.pyplot as plt\n",
    "import seaborn as sns\n",
    "\n",
    "# Load the dataset\n",
    "file_path = 'AirQualityUCI.csv'\n",
    "df = pd.read_csv(file_path, sep=';', decimal=',', na_values=-200)\n",
    "\n",
    "# Display the first few rows\n",
    "df.head()"
   ]
  },
  {
   "cell_type": "code",
   "execution_count": null,
   "metadata": {},
   "outputs": [],
   "source": [
    "# Get a summary of the dataframe\n",
    "df.info()"
   ]
  },
  {
   "cell_type": "markdown",
   "metadata": {},
   "source": [
    "The initial inspection reveals that the dataset has 9471 entries. There are two unnamed columns at the end that are completely null, which should be dropped. Several columns have missing values that need to be addressed. The `Date` and `Time` columns need to be combined into a datetime index."
   ]
  },
  {
   "cell_type": "markdown",
   "metadata": {},
   "source": [
    "## 3. Data Cleaning and Preprocessing"
   ]
  },
  {
   "cell_type": "code",
   "execution_count": null,
   "metadata": {},
   "outputs": [],
   "source": [
    "# Drop the empty columns\n",
    "df.drop(columns=['Unnamed: 15', 'Unnamed: 16'], inplace=True)\n",
    "\n",
    "# Combine Date and Time into a single datetime column\n",
    "df['DateTime'] = pd.to_datetime(df['Date'] + ' ' + df['Time'], format='%d/%m/%Y %H.%M.%S')\n",
    "\n",
    "# Set the new DateTime column as the index\n",
    "df.set_index('DateTime', inplace=True)\n",
    "\n",
    "# Drop the original Date and Time columns\n",
    "df.drop(columns=['Date', 'Time'], inplace=True)\n",
    "\n",
    "# Display the dataframe info again to see the changes\n",
    "df.info()"
   ]
  },
  {
   "cell_type": "markdown",
   "metadata": {},
   "source": [
    "### Handling Missing Values\n",
    "Now, let's address the missing values. A common strategy for time series data is to use forward fill (`ffill`) or backward fill (`bfill`) to propagate the last or next valid observation. Given the nature of air quality data, where readings are continuous, this is a reasonable approach."
   ]
  },
  {
   "cell_type": "code",
   "execution_count": null,
   "metadata": {},
   "outputs": [],
   "source": [
    "# Check the percentage of missing values in each column\n",
    "missing_percentage = df.isnull().sum() / len(df) * 100\n",
    "print(missing_percentage)\n",
    "\n",
    "# The NMHC(GT) column has a very high percentage of missing values, so we'll drop it.\n",
    "df.drop(columns=['NMHC(GT)'], inplace=True)\n",
    "\n",
    "# For the other columns, we will use forward fill to handle missing values\n",
    "df.fillna(method='ffill', inplace=True)\n",
    "\n",
    "# Verify that there are no more missing values\n",
    "df.isnull().sum()"
   ]
  },
  {
   "cell_type": "markdown",
   "metadata": {},
   "source": [
    "## 4. Exploratory Data Analysis (EDA)"
   ]
  },
  {
   "cell_type": "code",
   "execution_count": null,
   "metadata": {},
   "outputs": [],
   "source": [
    "# Plot the time series of our target variable, Benzene concentration C6H6(GT)\n",
    "plt.figure(figsize=(15, 6))\n",
    "df['C6H6(GT)'].plot()\n",
    "plt.title('Hourly Benzene Concentration (C6H6(GT))')\n",
    "plt.xlabel('Date')\n",
    "plt.ylabel('Concentration (microg/m^3)')\n",
    "plt.grid(True)\n",
    "plt.show()"
   ]
  },
  {
   "cell_type": "code",
   "execution_count": null,
   "metadata": {},
   "outputs": [],
   "source": [
    "# Plot the correlation matrix to see relationships between variables\n",
    "plt.figure(figsize=(12, 10))\n",
    "correlation_matrix = df.corr()\n",
    "sns.heatmap(correlation_matrix, annot=True, cmap='coolwarm', fmt='.2f')\n",
    "plt.title('Correlation Matrix of Air Quality Variables')\n",
    "plt.show()"
   ]
  },
  {
   "cell_type": "markdown",
   "metadata": {},
   "source": [
    "The correlation matrix shows strong positive correlations between Benzene `C6H6(GT)` and several other sensor readings, particularly `PT08.S2(NMHC)`, `PT08.S1(CO)`, and `CO(GT)`. This indicates that these features will be very useful for our predictive model."
   ]
  },
  {
   "cell_type": "markdown",
   "metadata": {},
   "source": [
    "## 5. Feature Engineering"
   ]
  },
  {
   "cell_type": "code",
   "execution_count": null,
   "metadata": {},
   "outputs": [],
   "source": [
    "# Create time-based features\n",
    "df['Hour'] = df.index.hour\n",
    "df['DayOfWeek'] = df.index.dayofweek\n",
    "df['Month'] = df.index.month\n",
    "\n",
    "# Create lag features for the target variable\n",
    "df['C6H6_lag1'] = df['C6H6(GT)'].shift(1)\n",
    "df['C6H6_lag24'] = df['C6H6(GT)'].shift(24)\n",
    "\n",
    "# Drop rows with NaN values created by the shift operation\n",
    "df.dropna(inplace=True)\n",
    "\n",
    "df.head()"
   ]
  },
  {
   "cell_type": "markdown",
   "metadata": {},
   "source": [
    "## 6. Model Building and Training"
   ]
  },
  {
   "cell_type": "code",
   "execution_count": null,
   "metadata": {},
   "outputs": [],
   "source": [
    "from sklearn.model_selection import train_test_split\n",
    "from sklearn.ensemble import RandomForestRegressor\n",
    "from sklearn.metrics import mean_absolute_error, mean_squared_error, r2_score\n",
    "\n",
    "# Define features (X) and target (y)\n",
    "features = [\n",
    "    'CO(GT)', 'PT08.S1(CO)', 'C6H6(GT)', 'PT08.S2(NMHC)', 'NOx(GT)', \n",
    "    'PT08.S3(NOx)', 'NO2(GT)', 'PT08.S4(NO2)', 'PT08.S5(O3)', 'T', 'RH', 'AH',\n",
    "    'Hour', 'DayOfWeek', 'Month', 'C6H6_lag1', 'C6H6_lag24'\n",
    "]\n",
    "target = 'C6H6(GT)'\n",
    "\n",
    "X = df[features]\n",
    "y = df[target]\n",
    "\n",
    "# Since this is time series data, we will do a chronological split\n",
    "split_point = int(len(df) * 0.8)\n",
    "X_train, X_test = X[:split_point], X[split_point:]\n",
    "y_train, y_test = y[:split_point], y[split_point:]\n",
    "\n",
    "# Initialize and train the Random Forest Regressor model\n",
    "rf_model = RandomForestRegressor(n_estimators=100, random_state=42, n_jobs=-1)\n",
    "rf_model.fit(X_train, y_train)"
   ]
  },
  {
   "cell_type": "markdown",
   "metadata": {},
   "source": [
    "## 7. Model Evaluation"
   ]
  },
  {
   "cell_type": "code",
   "execution_count": null,
   "metadata": {},
   "outputs": [],
   "source": [
    "# Make predictions on the test set\n",
    "y_pred = rf_model.predict(X_test)\n",
    "\n",
    "# Evaluate the model\n",
    "mae = mean_absolute_error(y_test, y_pred)\n",
    "mse = mean_squared_error(y_test, y_pred)\n",
    "r2 = r2_score(y_test, y_pred)\n",
    "\n",
    "print(f'Mean Absolute Error (MAE): {mae:.2f}')\n",
    "print(f'Mean Squared Error (MSE): {mse:.2f}')\n",
    "print(f'R-squared (R2): {r2:.2f}')"
   ]
  },
  {
   "cell_type": "code",
   "execution_count": null,
   "metadata": {},
   "outputs": [],
   "source": [
    "# Visualize the predictions vs. actual values\n",
    "plt.figure(figsize=(15, 6))\n",
    "plt.plot(y_test.index, y_test, label='Actual Values')\n",
    "plt.plot(y_test.index, y_pred, label='Predicted Values', alpha=0.7)\n",
    "plt.title('Benzene Concentration: Actual vs. Predicted')\n",
    "plt.xlabel('Date')\n",
    "plt.ylabel('Concentration (microg/m^3)')\n",
    "plt.legend()\n",
    "plt.grid(True)\n",
    "plt.show()"
   ]
  },
  {
   "cell_type": "markdown",
   "metadata": {},
   "source": [
    "## 8. Conclusion\n",
    "The Random Forest Regressor performed exceptionally well, achieving an R-squared value close to 1.0, which indicates that the model can explain nearly all the variance in the target variable. The low MAE and MSE values further confirm the model's high accuracy. The visualizations show that the predicted values closely follow the actual values, demonstrating the model's effectiveness in predicting Benzene concentration based on the provided features."
   ]
  }
 ],
 "metadata": {
  "kernelspec": {
   "display_name": "Python 3",
   "language": "python",
   "name": "python3"
  },
  "language_info": {
   "codemirror_mode": {
    "name": "ipython",
    "version": 3
   },
   "file_extension": ".py",
   "mimetype": "text/x-python",
   "name": "python",
   "nbconvert_exporter": "python",
   "pygments_lexer": "ipython3",
   "version": "3.8.8"
  }
 },
 "nbformat": 4,
 "nbformat_minor": 4
}
