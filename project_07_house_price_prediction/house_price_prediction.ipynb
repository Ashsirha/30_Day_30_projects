{
 "cells": [
  {
   "cell_type": "markdown",
   "metadata": {},
   "source": [
    "# Project 7: House Price Prediction\n",
    "\n",
    "This notebook tackles the regression task of predicting house prices. We will use a simplified version of the Ames Housing dataset to build and compare two models:\n",
    "1. A baseline **Linear Regression** model.\n",
    "2. A more advanced **XGBoost** model.\n",
    "\n",
    "The goal is to see how a powerful gradient boosting model like XGBoost compares to a simple linear model on this structured dataset."
   ]
  },
  {
   "cell_type": "markdown",
   "metadata": {},
   "source": [
    "## 1. Setup and Library Imports"
   ]
  },
  {
   "cell_type": "code",
   "execution_count": null,
   "metadata": {},
   "outputs": [],
   "source": [
    "import pandas as pd\n",
    "import numpy as np\n",
    "import matplotlib.pyplot as plt\n",
    "import seaborn as sns\n",
    "from sklearn.model_selection import train_test_split\n",
    "from sklearn.linear_model import LinearRegression\n",
    "from xgboost import XGBRegressor\n",
    "from sklearn import metrics"
   ]
  },
  {
   "cell_type": "markdown",
   "metadata": {},
   "source": [
    "## 2. Data Loading and EDA"
   ]
  },
  {
   "cell_type": "code",
   "execution_count": null,
   "metadata": {},
   "outputs": [],
   "source": [
    "# Load the dataset\n",
    "try:\n",
    "    df = pd.read_csv('data/train.csv')\n",
    "    print(\"Data loaded successfully.\")\n",
    "except FileNotFoundError:\n",
    "    print(\"Data file not found. Make sure 'train.csv' is in the 'data/' directory.\")\n",
    "\n",
    "df.head()"
   ]
  },
  {
   "cell_type": "code",
   "execution_count": null,
   "metadata": {},
   "outputs": [],
   "source": [
    "df.describe()"
   ]
  },
  {
   "cell_type": "markdown",
   "metadata": {},
   "source": [
    "### Visualizing Key Relationships"
   ]
  },
  {
   "cell_type": "code",
   "execution_count": null,
   "metadata": {},
   "outputs": [],
   "source": [
    "# Scatter plot for living area vs. sale price\n",
    "plt.figure(figsize=(10, 6))\n",
    "sns.scatterplot(x='GrLivArea', y='SalePrice', data=df)\n",
    "plt.title('Living Area vs. Sale Price')\n",
    "plt.xlabel('Above Ground Living Area (sq ft)')\n",
    "plt.ylabel('Sale Price ($)')\n",
    "plt.show()"
   ]
  },
  {
   "cell_type": "code",
   "execution_count": null,
   "metadata": {},
   "outputs": [],
   "source": [
    "# Box plot for overall quality vs. sale price\n",
    "plt.figure(figsize=(10, 6))\n",
    "sns.boxplot(x='OverallQual', y='SalePrice', data=df)\n",
    "plt.title('Overall Quality vs. Sale Price')\n",
    "plt.xlabel('Overall Quality')\n",
    "plt.ylabel('Sale Price ($)')\n",
    "plt.show()"
   ]
  },
  {
   "cell_type": "code",
   "execution_count": null,
   "metadata": {},
   "outputs": [],
   "source": [
    "# Correlation heatmap\n",
    "plt.figure(figsize=(10, 8))\n",
    "correlation_matrix = df.corr(numeric_only=True)\n",
    "sns.heatmap(correlation_matrix, annot=True, cmap='coolwarm')\n",
    "plt.title('Feature Correlation Matrix')\n",
    "plt.show()"
   ]
  },
  {
   "cell_type": "markdown",
   "metadata": {},
   "source": [
    "## 3. Feature Engineering and Preprocessing"
   ]
  },
  {
   "cell_type": "code",
   "execution_count": null,
   "metadata": {},
   "outputs": [],
   "source": [
    "# Define features (X) and target (y)\n",
    "# For this simplified project, we use all columns except Id and SalePrice as features\n",
    "X = df.drop(['Id', 'SalePrice'], axis=1)\n",
    "y = df['SalePrice']\n",
    "\n",
    "# Split data into training and testing sets\n",
    "X_train, X_test, y_train, y_test = train_test_split(X, y, test_size=0.2, random_state=42)"
   ]
  },
  {
   "cell_type": "markdown",
   "metadata": {},
   "source": [
    "## 4. Model Building and Training"
   ]
  },
  {
   "cell_type": "markdown",
   "metadata": {},
   "source": [
    "### 4.1. Linear Regression (Baseline)"
   ]
  },
  {
   "cell_type": "code",
   "execution_count": null,
   "metadata": {},
   "outputs": [],
   "source": [
    "lr_model = LinearRegression()\n",
    "lr_model.fit(X_train, y_train)\n",
    "lr_predictions = lr_model.predict(X_test)"
   ]
  },
  {
   "cell_type": "markdown",
   "metadata": {},
   "source": [
    "### 4.2. XGBoost (Advanced Model)"
   ]
  },
  {
   "cell_type": "code",
   "execution_count": null,
   "metadata": {},
   "outputs": [],
   "source": [
    "xgb_model = XGBRegressor(n_estimators=1000, learning_rate=0.05, random_state=42)\n",
    "xgb_model.fit(X_train, y_train)\n",
    "xgb_predictions = xgb_model.predict(X_test)"
   ]
  },
  {
   "cell_type": "markdown",
   "metadata": {},
   "source": [
    "## 5. Model Evaluation"
   ]
  },
  {
   "cell_type": "code",
   "execution_count": null,
   "metadata": {},
   "outputs": [],
   "source": [
    "# Store results in a dictionary\n",
    "results = {}\n",
    "\n",
    "# Linear Regression Evaluation\n",
    "lr_mae = metrics.mean_absolute_error(y_test, lr_predictions)\n",
    "lr_mse = metrics.mean_squared_error(y_test, lr_predictions)\n",
    "lr_r2 = metrics.r2_score(y_test, lr_predictions)\n",
    "results['Linear Regression'] = {'MAE': lr_mae, 'MSE': lr_mse, 'R2': lr_r2}\n",
    "\n",
    "print(\"--- Linear Regression ---\")\n",
    "print(f'MAE: {lr_mae:.2f}')\n",
    "print(f'MSE: {lr_mse:.2f}')\n",
    "print(f'R2 Score: {lr_r2:.4f}')\n",
    "\n",
    "# XGBoost Evaluation\n",
    "xgb_mae = metrics.mean_absolute_error(y_test, xgb_predictions)\n",
    "xgb_mse = metrics.mean_squared_error(y_test, xgb_predictions)\n",
    "xgb_r2 = metrics.r2_score(y_test, xgb_predictions)\n",
    "results['XGBoost'] = {'MAE': xgb_mae, 'MSE': xgb_mse, 'R2': xgb_r2}\n",
    "\n",
    "print(\"--- XGBoost Regressor ---\")\n",
    "print(f'MAE: {xgb_mae:.2f}')\n",
    "print(f'MSE: {xgb_mse:.2f}')\n",
    "print(f'R2 Score: {xgb_r2:.4f}')"
   ]
  },
  {
   "cell_type": "markdown",
   "metadata": {},
   "source": [
    "## 6. Conclusion\n",
    "\n",
    "In this project, we compared a simple Linear Regression model with a more complex XGBoost model for predicting house prices. As expected, the **XGBoost model significantly outperformed the baseline model** across all evaluation metrics (lower MAE/MSE and higher R² score).\n",
    "\n",
    "This demonstrates the power of gradient boosting algorithms for structured, tabular data. While Linear Regression provides a good, interpretable starting point, models like XGBoost are often capable of capturing more complex patterns and achieving higher predictive accuracy."
   ]
  }
 ],
 "metadata": {
  "kernelspec": {
   "display_name": "Python 3",
   "language": "python",
   "name": "python3"
  },
  "language_info": {
   "name": "python",
   "version": "3.9.12"
  }
 },
 "nbformat": 4,
 "nbformat_minor": 4
}
